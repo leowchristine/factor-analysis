{
 "cells": [
  {
   "cell_type": "code",
   "execution_count": null,
   "metadata": {},
   "outputs": [],
   "source": [
    "#Barlett's Test\n",
    "from factor_analyzer.factor_analyzer \n",
    "import calculate_barlett_sphericity\n",
    "chi_square_value, p_value = calculate_barlett_sphericity(df)\n",
    "\n",
    "chi_square_value,p_value"
   ]
  },
  {
   "cell_type": "code",
   "execution_count": null,
   "metadata": {},
   "outputs": [],
   "source": [
    "#Kaiser_Meyer_Olkin (KMO) test\n",
    "from factor_analzyer.factor_analyzer\n",
    "import calculate_kmo\n",
    "kmo_all,kmo_model=calulate_kmo(df)\n",
    "\n",
    "kmo_model"
   ]
  },
  {
   "cell_type": "code",
   "execution_count": null,
   "metadata": {},
   "outputs": [],
   "source": [
    "#Explore number of factors nueeded\n",
    "from factor_analyzer import FactorAnalyzer\n",
    "fa=FactorAnalyzer()\n",
    "fa.analyze(df, 25, rotation=None) #ask for 25 eigenvalues\n",
    "#check the 25 eigenvalues\n",
    "ev,v=fa.get_eignevalues()\n",
    "\n",
    "ev"
   ]
  },
  {
   "cell_type": "code",
   "execution_count": null,
   "metadata": {},
   "outputs": [],
   "source": [
    "#scree plot\n",
    "import matplotlib.pyplot as plt\n",
    "plt.scatter(range(1,df.shape[1]+1),ev)\n",
    "plt.plot(range(1,df.shape[1]+1),ev)\n",
    "plt.title('Scree Plot')\n",
    "plt.xlabel('Facotrs')\n",
    "plt.ylabel('Eigenvalue)\n",
    "plt.grid()\n",
    "plt.show()"
   ]
  },
  {
   "cell_type": "code",
   "execution_count": null,
   "metadata": {},
   "outputs": [],
   "source": [
    "#Perform exploratory Factor Analysis\n",
    "fa=FactorAnalyze()\n",
    "fa.analyze(df, 6, rotation=\"Varimax\") #scree plot and eigenvalues suggested 6 factors\n",
    "fa.loadings\n",
    "\n",
    "#Perform confimratory Factor Analysis\n",
    "fa=FactorAnalyze()\n",
    "fa.analyze(df, 5, rotation=\"Varimax\")\n",
    "fa.loadings\n",
    "\n",
    "#Get variance accounted for by factors\n",
    "fa.get_factor_variance()"
   ]
  }
 ],
 "metadata": {
  "kernelspec": {
   "display_name": "Python 3",
   "language": "python",
   "name": "python3"
  },
  "language_info": {
   "codemirror_mode": {
    "name": "ipython",
    "version": 3
   },
   "file_extension": ".py",
   "mimetype": "text/x-python",
   "name": "python",
   "nbconvert_exporter": "python",
   "pygments_lexer": "ipython3",
   "version": "3.7.3"
  }
 },
 "nbformat": 4,
 "nbformat_minor": 2
}
